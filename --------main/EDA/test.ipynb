{
 "cells": [
  {
   "cell_type": "code",
   "execution_count": 20,
   "metadata": {},
   "outputs": [],
   "source": [
    "import pandas as pd\n",
    "import numpy as np"
   ]
  },
  {
   "cell_type": "code",
   "execution_count": 21,
   "metadata": {},
   "outputs": [],
   "source": [
    "s1=pd.read_csv('submission_cat.csv',header=None)\n",
    "s2=pd.read_csv('submission_cat1.csv',header=None)"
   ]
  },
  {
   "cell_type": "code",
   "execution_count": 22,
   "metadata": {},
   "outputs": [
    {
     "data": {
      "text/plain": [
       "0        12367.107840\n",
       "1         6784.505655\n",
       "2         6421.978580\n",
       "3        22764.414600\n",
       "4         7037.217601\n",
       "             ...     \n",
       "27532    18105.376459\n",
       "27533    13260.864259\n",
       "27534     9777.505947\n",
       "27535     8091.084263\n",
       "27536     7132.085521\n",
       "Name: 1, Length: 27537, dtype: float64"
      ]
     },
     "execution_count": 22,
     "metadata": {},
     "output_type": "execute_result"
    }
   ],
   "source": [
    "p1=s1[1]\n",
    "p2=s2[1]\n",
    "\n",
    "pred=0.5*p1+0.5*p2\n",
    "pred"
   ]
  },
  {
   "cell_type": "code",
   "execution_count": 23,
   "metadata": {},
   "outputs": [],
   "source": [
    "submission = pd.DataFrame({\n",
    "    'id': s1[0],  # 'id'はカラム名として指定します\n",
    "    'prediction': pred  # 'prediction' は適切なカラム名に変更してください\n",
    "})\n",
    "\n",
    "submission.to_csv('submission_cat_ave.csv', index=False,header=False)"
   ]
  }
 ],
 "metadata": {
  "kernelspec": {
   "display_name": "Python 3",
   "language": "python",
   "name": "python3"
  },
  "language_info": {
   "codemirror_mode": {
    "name": "ipython",
    "version": 3
   },
   "file_extension": ".py",
   "mimetype": "text/x-python",
   "name": "python",
   "nbconvert_exporter": "python",
   "pygments_lexer": "ipython3",
   "version": "3.10.7"
  },
  "orig_nbformat": 4
 },
 "nbformat": 4,
 "nbformat_minor": 2
}
