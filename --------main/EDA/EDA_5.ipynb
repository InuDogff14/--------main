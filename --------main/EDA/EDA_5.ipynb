{
 "cells": [
  {
   "cell_type": "code",
   "execution_count": 2,
   "metadata": {},
   "outputs": [],
   "source": [
    "import pandas as pd\n",
    "import numpy as np\n",
    "from sklearn.preprocessing import LabelEncoder\n",
    "label_encoder = LabelEncoder()"
   ]
  },
  {
   "cell_type": "code",
   "execution_count": 3,
   "metadata": {},
   "outputs": [],
   "source": [
    "train=pd.read_csv('../Input/train.csv')\n",
    "test=pd.read_csv('../Input/test.csv')"
   ]
  },
  {
   "cell_type": "code",
   "execution_count": 8,
   "metadata": {},
   "outputs": [
    {
     "data": {
      "text/plain": [
       "54"
      ]
     },
     "execution_count": 8,
     "metadata": {},
     "output_type": "execute_result"
    }
   ],
   "source": [
    "new_condition_non_zero_odometer=train[(train['condition']==\"new\") & (train['odometer']>0)]\n",
    "\n",
    "new_condition_non_zero_odometer_count = len(new_condition_non_zero_odometer)\n",
    "new_condition_non_zero_odometer_count"
   ]
  },
  {
   "cell_type": "code",
   "execution_count": null,
   "metadata": {},
   "outputs": [],
   "source": [
    "train['price'] = np.log(train['price'])"
   ]
  },
  {
   "cell_type": "code",
   "execution_count": null,
   "metadata": {},
   "outputs": [],
   "source": [
    "def preprocess(df):\n",
    "    # 2999年以上のものは-1000するように\n",
    "    df.loc[df['year'] >= 2999, 'year'] = df.loc[df['year'] >= 2999, 'year'] - 1000\n",
    "    #cylinders列を数値型に\n",
    "    df['cylinders'] = df['cylinders'].str.extract('(\\d+)').astype(float)\n",
    "    df['cylinders'] = df['cylinders'].replace('nan', 2.0)\n",
    "    df['cylinders']=df['cylinders'].astype(float)\n",
    "    \n",
    "    #年間走行距離\n",
    "    df['odometer_per_year'] = df['odometer'] / ((df['year'].max() + 1) - df['year'])\n",
    "    #クレンジング\n",
    "    df['manufacturer_cleaned'] = df['manufacturer'].apply(clean_manufacturer)\n",
    "    #車の経過年数\n",
    "    df['car_age'] = (df['year'].max() + 1) - df['year']\n",
    "    #paint_colorをワンホットエンコーディング\n",
    "    df = pd.get_dummies(df, columns=['paint_color'])\n",
    "    #fuel列の欠損値をgasで補完\n",
    "    df['fuel'] = df['fuel'].fillna('gas')\n",
    "    #fuel列をラベルエンコーディング\n",
    "    df['fuel'] = label_encoder.fit_transform(df['fuel'])\n",
    "    df.fillna('nan', inplace=True)\n",
    "    \n",
    "    for c in ['region','manufacturer_cleaned','condition','fuel','title_status','transmission', 'drive', 'size', 'type', 'state']:\n",
    "        df[c] = label_encoder.fit_transform(df[c].astype(str))\n",
    "    #不要な列を削除\n",
    "    del df['manufacturer']\n",
    "    del df['type']\n",
    "    return df"
   ]
  }
 ],
 "metadata": {
  "kernelspec": {
   "display_name": "Python 3",
   "language": "python",
   "name": "python3"
  },
  "language_info": {
   "codemirror_mode": {
    "name": "ipython",
    "version": 3
   },
   "file_extension": ".py",
   "mimetype": "text/x-python",
   "name": "python",
   "nbconvert_exporter": "python",
   "pygments_lexer": "ipython3",
   "version": "3.10.7"
  },
  "orig_nbformat": 4
 },
 "nbformat": 4,
 "nbformat_minor": 2
}
