{
 "cells": [
  {
   "cell_type": "code",
   "execution_count": 35,
   "metadata": {},
   "outputs": [],
   "source": [
    "import pandas as pd\n",
    "import numpy as np\n",
    "from sklearn.preprocessing import LabelEncoder\n",
    "# 必要なライブラリのインポート\n",
    "import pandas as pd\n",
    "from catboost import CatBoostRegressor, Pool\n",
    "from sklearn.model_selection import train_test_split, KFold\n",
    "from sklearn.metrics import mean_squared_error\n",
    "from hyperopt import fmin, tpe, hp, STATUS_OK, Trials"
   ]
  },
  {
   "cell_type": "code",
   "execution_count": 36,
   "metadata": {},
   "outputs": [],
   "source": [
    "train=pd.read_csv('../Input/train.csv')\n",
    "test=pd.read_csv('../Input/test.csv')\n",
    "train['price'] = np.log(train['price'])"
   ]
  },
  {
   "cell_type": "code",
   "execution_count": 37,
   "metadata": {},
   "outputs": [],
   "source": [
    "size_corrections = {\n",
    "    \"fullーsize\": \"full-size\",\n",
    "    \"full−size\": \"full-size\",\n",
    "    \"midーsize\": \"mid-size\",\n",
    "    \"mid−size\": \"mid-size\",\n",
    "    \"subーcompact\": \"sub-compact\"\n",
    "}\n",
    "\n",
    "columns_to_encode = ['condition', 'title_status', 'transmission', 'drive', 'size']\n",
    "\n",
    "train.drop(train[(train['condition'] == 'new') & (train['odometer'] != 0)].index, inplace=True)\n",
    "train = train[~((train['year'] < 2000) & (train['fuel'] == \"electric\"))]"
   ]
  },
  {
   "cell_type": "code",
   "execution_count": 38,
   "metadata": {},
   "outputs": [],
   "source": [
    "def preprocess(df):\n",
    "    # Correct the year values\n",
    "    df.loc[df['year'] >= 2999, 'year'] -= 1000\n",
    "    \n",
    "    # Make odometer values absolute\n",
    "    df['odometer'] = df['odometer'].abs()\n",
    "    \n",
    "    # Extract number of cylinders and handle missing values\n",
    "    df['cylinders'] = df['cylinders'].str.extract('(\\d+)').astype(float)\n",
    "    df['cylinders'].fillna(6.0, inplace=True)\n",
    "    \n",
    "    # Compute odometer per year\n",
    "    df['odometer_per_year'] = df['odometer'] / ((df['year'].max() + 1) - df['year'])\n",
    "    \n",
    "    # Compute age of the car\n",
    "    df['car_age'] = (df['year'].max() + 1) - df['year']\n",
    "    \n",
    "    # One-hot encode paint_color\n",
    "    df = pd.get_dummies(df, columns=['paint_color'], prefix=['color'])\n",
    "    \n",
    "    # Fill missing values in fuel and label encode\n",
    "    df['fuel'].fillna('gas', inplace=True)\n",
    "    le = LabelEncoder()\n",
    "    df['fuel'] = le.fit_transform(df['fuel'])\n",
    "    \n",
    "    # Fill missing values in 'state' column based on the 'region' column using the mapping\n",
    "    region_to_state_mapping = df[df['state'].notnull()].groupby('region')['state'].first().to_dict()\n",
    "    df['state'].fillna(df['region'].map(region_to_state_mapping), inplace=True)\n",
    "    \n",
    "    regions_with_missing_states = df[df['state'].isnull()]['region'].unique()\n",
    "    regions_info_in_test = test[test['region'].isin(regions_with_missing_states)][['region', 'state']].drop_duplicates()\n",
    "    # Create a mapping from the new dataset to fill missing states in the original dataset\n",
    "    region_to_state_fill = regions_info_in_test.set_index('region').to_dict()['state']\n",
    "\n",
    "    # Fill missing states in the original dataset using the mapping\n",
    "    df['state'].fillna(df['region'].map(region_to_state_fill), inplace=True)\n",
    "    df = pd.get_dummies(df, columns=['state'], prefix=['state'])\n",
    "    \n",
    "    manufacturer_counts = df['manufacturer'].value_counts().to_dict()\n",
    "    df['manufacturer'] = df['manufacturer'].map(manufacturer_counts)\n",
    "    df['type'].fillna(df['type'].mode()[0], inplace=True)\n",
    "    df['title_status'].fillna(df['title_status'].mode()[0], inplace=True)\n",
    "    df['size'].replace(size_corrections, inplace=True)\n",
    "    for col in columns_to_encode:\n",
    "        le = LabelEncoder()\n",
    "        df[col + '_encoded'] = le.fit_transform(df[col])\n",
    "        del df[col]\n",
    "    \n",
    "    df = pd.get_dummies(df, columns=['type'], prefix=['type'])\n",
    "    del df['region']\n",
    "    return df"
   ]
  },
  {
   "cell_type": "code",
   "execution_count": 39,
   "metadata": {},
   "outputs": [],
   "source": [
    "train=preprocess(train)\n",
    "test=preprocess(test)"
   ]
  },
  {
   "cell_type": "code",
   "execution_count": 40,
   "metadata": {},
   "outputs": [],
   "source": [
    "X = train.drop('price', axis=1)  # 'target_column_name'はターゲット変数のカラム名に置き換えてください\n",
    "y = train['price']"
   ]
  },
  {
   "cell_type": "code",
   "execution_count": 41,
   "metadata": {},
   "outputs": [],
   "source": [
    "# ハイパーパラメーターチューニングのための関数定義\n",
    "def objective(params):\n",
    "    params = {\n",
    "        'depth': int(params['depth']),\n",
    "        'learning_rate': params['learning_rate'],\n",
    "        'l2_leaf_reg': params['l2_leaf_reg'],\n",
    "    }\n",
    "    \n",
    "    cat = CatBoostRegressor(iterations=500, **params)\n",
    "    \n",
    "    kf = KFold(n_splits=5, shuffle=True, random_state=42)\n",
    "    scores = []\n",
    "    for train_idx, val_idx in kf.split(X, y):\n",
    "        X_train, X_val = X.iloc[train_idx], X.iloc[val_idx]\n",
    "        y_train, y_val = y.iloc[train_idx], y.iloc[val_idx]\n",
    "        \n",
    "        cat.fit(X_train, y_train, verbose=0)\n",
    "        preds = cat.predict(X_val)\n",
    "        score = mean_squared_error(y_val, preds)\n",
    "        scores.append(score)\n",
    "    \n",
    "    return {'loss': np.mean(scores), 'status': STATUS_OK}"
   ]
  },
  {
   "cell_type": "code",
   "execution_count": 42,
   "metadata": {},
   "outputs": [
    {
     "name": "stdout",
     "output_type": "stream",
     "text": [
      "100%|██████████| 100/100 [31:40<00:00, 19.01s/trial, best loss: 0.3468265623871432]\n"
     ]
    }
   ],
   "source": [
    "# パラメータ空間の定義\n",
    "space = {\n",
    "    'depth': hp.quniform('depth', 6, 10, 1),\n",
    "    'learning_rate' : hp.uniform('learning_rate', 0.01, 0.3),\n",
    "    'random_strength': hp.quniform('random_strength', 0, 100, 1),\n",
    "    'bagging_temperature': hp.uniform('bagging_temperature', 0.01, 100.00),\n",
    "    'od_type': hp.choice('od_type', ['IncToDec', 'Iter']),\n",
    "    'od_wait': hp.quniform('od_wait', 10, 50, 1),\n",
    "    'l2_leaf_reg': hp.uniform('l2_leaf_reg', 1, 10),\n",
    "}\n",
    "\n",
    "# ハイパーパラメーターチューニングの実行\n",
    "trials = Trials()\n",
    "best = fmin(fn=objective, space=space, algo=tpe.suggest, max_evals=100, trials=trials)"
   ]
  },
  {
   "cell_type": "code",
   "execution_count": 43,
   "metadata": {},
   "outputs": [
    {
     "ename": "CatBoostError",
     "evalue": "C:/Go_Agent/pipelines/BuildMaster/catboost.git/catboost/private/libs/options/json_helper.h:173: Can't parse parameter \"type\" with value: 0",
     "output_type": "error",
     "traceback": [
      "\u001b[1;31m---------------------------------------------------------------------------\u001b[0m",
      "\u001b[1;31mCatBoostError\u001b[0m                             Traceback (most recent call last)",
      "Cell \u001b[1;32mIn[43], line 2\u001b[0m\n\u001b[0;32m      1\u001b[0m cat \u001b[39m=\u001b[39m CatBoostRegressor(iterations\u001b[39m=\u001b[39m\u001b[39m1000\u001b[39m, \u001b[39m*\u001b[39m\u001b[39m*\u001b[39mbest)\n\u001b[1;32m----> 2\u001b[0m cat\u001b[39m.\u001b[39;49mfit(X, y)\n\u001b[0;32m      4\u001b[0m \u001b[39m# テストデータでの予測\u001b[39;00m\n\u001b[0;32m      5\u001b[0m preds_test \u001b[39m=\u001b[39m cat\u001b[39m.\u001b[39mpredict(test)\n",
      "File \u001b[1;32mc:\\Users\\田代雄大\\AppData\\Local\\Programs\\Python\\Python310\\lib\\site-packages\\catboost\\core.py:5734\u001b[0m, in \u001b[0;36mCatBoostRegressor.fit\u001b[1;34m(self, X, y, cat_features, text_features, embedding_features, sample_weight, baseline, use_best_model, eval_set, verbose, logging_level, plot, plot_file, column_description, verbose_eval, metric_period, silent, early_stopping_rounds, save_snapshot, snapshot_file, snapshot_interval, init_model, callbacks, log_cout, log_cerr)\u001b[0m\n\u001b[0;32m   5731\u001b[0m \u001b[39mif\u001b[39;00m \u001b[39m'\u001b[39m\u001b[39mloss_function\u001b[39m\u001b[39m'\u001b[39m \u001b[39min\u001b[39;00m params:\n\u001b[0;32m   5732\u001b[0m     CatBoostRegressor\u001b[39m.\u001b[39m_check_is_compatible_loss(params[\u001b[39m'\u001b[39m\u001b[39mloss_function\u001b[39m\u001b[39m'\u001b[39m])\n\u001b[1;32m-> 5734\u001b[0m \u001b[39mreturn\u001b[39;00m \u001b[39mself\u001b[39;49m\u001b[39m.\u001b[39;49m_fit(X, y, cat_features, text_features, embedding_features, \u001b[39mNone\u001b[39;49;00m, sample_weight, \u001b[39mNone\u001b[39;49;00m, \u001b[39mNone\u001b[39;49;00m, \u001b[39mNone\u001b[39;49;00m, \u001b[39mNone\u001b[39;49;00m, baseline,\n\u001b[0;32m   5735\u001b[0m                  use_best_model, eval_set, verbose, logging_level, plot, plot_file, column_description,\n\u001b[0;32m   5736\u001b[0m                  verbose_eval, metric_period, silent, early_stopping_rounds,\n\u001b[0;32m   5737\u001b[0m                  save_snapshot, snapshot_file, snapshot_interval, init_model, callbacks, log_cout, log_cerr)\n",
      "File \u001b[1;32mc:\\Users\\田代雄大\\AppData\\Local\\Programs\\Python\\Python310\\lib\\site-packages\\catboost\\core.py:2341\u001b[0m, in \u001b[0;36mCatBoost._fit\u001b[1;34m(self, X, y, cat_features, text_features, embedding_features, pairs, sample_weight, group_id, group_weight, subgroup_id, pairs_weight, baseline, use_best_model, eval_set, verbose, logging_level, plot, plot_file, column_description, verbose_eval, metric_period, silent, early_stopping_rounds, save_snapshot, snapshot_file, snapshot_interval, init_model, callbacks, log_cout, log_cerr)\u001b[0m\n\u001b[0;32m   2338\u001b[0m \u001b[39mif\u001b[39;00m y \u001b[39mis\u001b[39;00m \u001b[39mNone\u001b[39;00m \u001b[39mand\u001b[39;00m \u001b[39mnot\u001b[39;00m \u001b[39misinstance\u001b[39m(X, PATH_TYPES \u001b[39m+\u001b[39m (Pool,)):\n\u001b[0;32m   2339\u001b[0m     \u001b[39mraise\u001b[39;00m CatBoostError(\u001b[39m\"\u001b[39m\u001b[39my may be None only when X is an instance of catboost.Pool or string\u001b[39m\u001b[39m\"\u001b[39m)\n\u001b[1;32m-> 2341\u001b[0m train_params \u001b[39m=\u001b[39m \u001b[39mself\u001b[39;49m\u001b[39m.\u001b[39;49m_prepare_train_params(\n\u001b[0;32m   2342\u001b[0m     X\u001b[39m=\u001b[39;49mX, y\u001b[39m=\u001b[39;49my, cat_features\u001b[39m=\u001b[39;49mcat_features, text_features\u001b[39m=\u001b[39;49mtext_features, embedding_features\u001b[39m=\u001b[39;49membedding_features,\n\u001b[0;32m   2343\u001b[0m     pairs\u001b[39m=\u001b[39;49mpairs, sample_weight\u001b[39m=\u001b[39;49msample_weight, group_id\u001b[39m=\u001b[39;49mgroup_id, group_weight\u001b[39m=\u001b[39;49mgroup_weight,\n\u001b[0;32m   2344\u001b[0m     subgroup_id\u001b[39m=\u001b[39;49msubgroup_id, pairs_weight\u001b[39m=\u001b[39;49mpairs_weight, baseline\u001b[39m=\u001b[39;49mbaseline, use_best_model\u001b[39m=\u001b[39;49muse_best_model,\n\u001b[0;32m   2345\u001b[0m     eval_set\u001b[39m=\u001b[39;49meval_set, verbose\u001b[39m=\u001b[39;49mverbose, logging_level\u001b[39m=\u001b[39;49mlogging_level, plot\u001b[39m=\u001b[39;49mplot, plot_file\u001b[39m=\u001b[39;49mplot_file,\n\u001b[0;32m   2346\u001b[0m     column_description\u001b[39m=\u001b[39;49mcolumn_description, verbose_eval\u001b[39m=\u001b[39;49mverbose_eval, metric_period\u001b[39m=\u001b[39;49mmetric_period,\n\u001b[0;32m   2347\u001b[0m     silent\u001b[39m=\u001b[39;49msilent, early_stopping_rounds\u001b[39m=\u001b[39;49mearly_stopping_rounds, save_snapshot\u001b[39m=\u001b[39;49msave_snapshot,\n\u001b[0;32m   2348\u001b[0m     snapshot_file\u001b[39m=\u001b[39;49msnapshot_file, snapshot_interval\u001b[39m=\u001b[39;49msnapshot_interval, init_model\u001b[39m=\u001b[39;49minit_model,\n\u001b[0;32m   2349\u001b[0m     callbacks\u001b[39m=\u001b[39;49mcallbacks\n\u001b[0;32m   2350\u001b[0m )\n\u001b[0;32m   2351\u001b[0m params \u001b[39m=\u001b[39m train_params[\u001b[39m\"\u001b[39m\u001b[39mparams\u001b[39m\u001b[39m\"\u001b[39m]\n\u001b[0;32m   2352\u001b[0m train_pool \u001b[39m=\u001b[39m train_params[\u001b[39m\"\u001b[39m\u001b[39mtrain_pool\u001b[39m\u001b[39m\"\u001b[39m]\n",
      "File \u001b[1;32mc:\\Users\\田代雄大\\AppData\\Local\\Programs\\Python\\Python310\\lib\\site-packages\\catboost\\core.py:2268\u001b[0m, in \u001b[0;36mCatBoost._prepare_train_params\u001b[1;34m(self, X, y, cat_features, text_features, embedding_features, pairs, sample_weight, group_id, group_weight, subgroup_id, pairs_weight, baseline, use_best_model, eval_set, verbose, logging_level, plot, plot_file, column_description, verbose_eval, metric_period, silent, early_stopping_rounds, save_snapshot, snapshot_file, snapshot_interval, init_model, callbacks)\u001b[0m\n\u001b[0;32m   2266\u001b[0m _check_param_types(params)\n\u001b[0;32m   2267\u001b[0m params \u001b[39m=\u001b[39m _params_type_cast(params)\n\u001b[1;32m-> 2268\u001b[0m _check_train_params(params)\n\u001b[0;32m   2270\u001b[0m \u001b[39mif\u001b[39;00m params\u001b[39m.\u001b[39mget(\u001b[39m'\u001b[39m\u001b[39meval_fraction\u001b[39m\u001b[39m'\u001b[39m, \u001b[39m0.0\u001b[39m) \u001b[39m!=\u001b[39m \u001b[39m0.0\u001b[39m:\n\u001b[0;32m   2271\u001b[0m     \u001b[39mif\u001b[39;00m eval_set \u001b[39mis\u001b[39;00m \u001b[39mnot\u001b[39;00m \u001b[39mNone\u001b[39;00m:\n",
      "File \u001b[1;32m_catboost.pyx:6084\u001b[0m, in \u001b[0;36m_catboost._check_train_params\u001b[1;34m()\u001b[0m\n",
      "File \u001b[1;32m_catboost.pyx:6103\u001b[0m, in \u001b[0;36m_catboost._check_train_params\u001b[1;34m()\u001b[0m\n",
      "\u001b[1;31mCatBoostError\u001b[0m: C:/Go_Agent/pipelines/BuildMaster/catboost.git/catboost/private/libs/options/json_helper.h:173: Can't parse parameter \"type\" with value: 0"
     ]
    }
   ],
   "source": [
    "cat = CatBoostRegressor(iterations=1000, **best)\n",
    "cat.fit(X, y)\n",
    "\n",
    "# テストデータでの予測\n",
    "preds_test = cat.predict(test)\n",
    "\n",
    "y_pred_original = np.exp(preds_test)\n",
    "\n",
    "submission = pd.DataFrame({\n",
    "    'id': test['id'],  # 'id'はカラム名として指定します\n",
    "    'prediction': y_pred_original  # 'prediction' は適切なカラム名に変更してください\n",
    "})\n",
    "\n",
    "submission.to_csv('submission_cat3.csv', index=False,header=False)\n",
    "\n"
   ]
  }
 ],
 "metadata": {
  "kernelspec": {
   "display_name": "Python 3",
   "language": "python",
   "name": "python3"
  },
  "language_info": {
   "codemirror_mode": {
    "name": "ipython",
    "version": 3
   },
   "file_extension": ".py",
   "mimetype": "text/x-python",
   "name": "python",
   "nbconvert_exporter": "python",
   "pygments_lexer": "ipython3",
   "version": "3.10.7"
  },
  "orig_nbformat": 4
 },
 "nbformat": 4,
 "nbformat_minor": 2
}
